{
  "cells": [
    {
      "cell_type": "markdown",
      "metadata": {
        "_cell_guid": "a061a475-539a-49b2-a793-4d54d371cff5",
        "_uuid": "2d418ae2-5cf9-4ee2-be21-887cbd12c033",
        "id": "8CsHPbUfJ2ym",
        "trusted": true
      },
      "source": [
        "# SETUP"
      ]
    },
    {
      "cell_type": "code",
      "execution_count": null,
      "metadata": {
        "_cell_guid": "9a49de34-2d0c-4cb6-8d25-36999973b84b",
        "_uuid": "9f8ddafc-6c56-4f57-b839-2e5b993c54b5",
        "colab": {
          "base_uri": "https://localhost:8080/"
        },
        "execution": {
          "iopub.execute_input": "2022-09-22T02:29:27.201419Z",
          "iopub.status.busy": "2022-09-22T02:29:27.200513Z",
          "iopub.status.idle": "2022-09-22T02:29:28.595614Z",
          "shell.execute_reply": "2022-09-22T02:29:28.594097Z",
          "shell.execute_reply.started": "2022-09-22T02:29:27.201257Z"
        },
        "id": "OL82Y4rBjZIV",
        "jupyter": {
          "outputs_hidden": false
        },
        "outputId": "b7f0bc79-486e-4335-bb69-9bba883904ea",
        "scrolled": true,
        "trusted": true
      },
      "outputs": [],
      "source": [
        "!nvidia-smi"
      ]
    },
    {
      "cell_type": "markdown",
      "metadata": {},
      "source": [
        "## Install Automatic1111's Gradio Web UI"
      ]
    },
    {
      "cell_type": "code",
      "execution_count": null,
      "metadata": {
        "_cell_guid": "f299b5ef-ba76-4833-8dc5-64e96020cd63",
        "_uuid": "56bdb038-f02b-473c-bb83-9acd5fd62c7f",
        "colab": {
          "base_uri": "https://localhost:8080/"
        },
        "execution": {
          "iopub.execute_input": "2022-09-22T02:29:45.244627Z",
          "iopub.status.busy": "2022-09-22T02:29:45.243987Z",
          "iopub.status.idle": "2022-09-22T02:29:47.949777Z",
          "shell.execute_reply": "2022-09-22T02:29:47.948273Z",
          "shell.execute_reply.started": "2022-09-22T02:29:45.244568Z"
        },
        "id": "sBbcB4vwj_jm",
        "jupyter": {
          "outputs_hidden": false
        },
        "outputId": "2aa990a6-1cc1-4a76-d234-d3c0c90c1b32",
        "trusted": true
      },
      "outputs": [],
      "source": [
        "!git clone --depth 1 https://github.com/AUTOMATIC1111/stable-diffusion-webui\n",
        "%cd stable-diffusion-webui"
      ]
    },
    {
      "cell_type": "code",
      "execution_count": null,
      "metadata": {
        "_cell_guid": "5b481bfc-e47f-457a-80d8-c2f8f566f51b",
        "_uuid": "00b05248-2fe7-42a1-a709-23e9da863dc2",
        "colab": {
          "base_uri": "https://localhost:8080/",
          "height": 1000
        },
        "execution": {
          "iopub.execute_input": "2022-09-22T02:29:47.953209Z",
          "iopub.status.busy": "2022-09-22T02:29:47.952704Z",
          "iopub.status.idle": "2022-09-22T02:32:49.677263Z",
          "shell.execute_reply": "2022-09-22T02:32:49.675549Z",
          "shell.execute_reply.started": "2022-09-22T02:29:47.953160Z"
        },
        "id": "SaAJk33ppFw1",
        "jupyter": {
          "outputs_hidden": true
        },
        "outputId": "c978dd65-f374-42dc-bc54-7bf959dc3721",
        "trusted": true
      },
      "outputs": [],
      "source": [
        "%pip install -r requirements.txt\n",
        "!mkdir repositories\n",
        "!git clone --depth 1 https://github.com/CompVis/stable-diffusion.git repositories/stable-diffusion\n",
        "!git clone --depth 1 https://github.com/CompVis/taming-transformers.git repositories/taming-transformers\n",
        "!git clone --depth 1 https://github.com/CompVis/latent-diffusion.git repositories/latent-diffusion\n",
        "!git clone --depth 1 https://github.com/sczhou/CodeFormer.git repositories/CodeFormer\n",
        "!git clone --depth 1 https://github.com/crowsonkb/k-diffusion.git repositories/k-diffusion\n",
        "!git clone --depth 1 https://github.com/salesforce/BLIP.git repositories/BLIP\n",
        "%pip install -r repositories/CodeFormer/requirements.txt"
      ]
    },
    {
      "cell_type": "markdown",
      "metadata": {},
      "source": [
        "## Download SD v1.4 model from Huggingface\n",
        "You'll need a token from HuggingFace for this, and will need to agree to the T&C of the repo.\n",
        "\n",
        "Alternatively, upload it to your drive / storage and copy it over."
      ]
    },
    {
      "cell_type": "code",
      "execution_count": null,
      "metadata": {
        "_cell_guid": "431bfd96-1f9a-4c64-b044-cae1ea8ae1e3",
        "_uuid": "26644eb5-b753-44d0-8cbe-327ea1a94b67",
        "colab": {
          "base_uri": "https://localhost:8080/"
        },
        "collapsed": true,
        "execution": {
          "iopub.execute_input": "2022-09-22T02:32:49.680603Z",
          "iopub.status.busy": "2022-09-22T02:32:49.680044Z",
          "iopub.status.idle": "2022-09-22T02:35:15.440804Z",
          "shell.execute_reply": "2022-09-22T02:35:15.439058Z",
          "shell.execute_reply.started": "2022-09-22T02:32:49.680502Z"
        },
        "id": "hrhHGwmDipjc",
        "jupyter": {
          "outputs_hidden": true
        },
        "outputId": "f7fad5d7-392c-4dfe-b9b3-7832b482c360",
        "scrolled": true,
        "trusted": true
      },
      "outputs": [],
      "source": [
        "!mkdir -p models/Stable-diffusion\n",
        "!wget -c --header=\"Authorization: Bearer Your_Token_Here\" \"https://huggingface.co/CompVis/username/stable-diffusion-v-1-4-original/resolve/main/sd-v1-4.ckpt -O models/Stable-diffusion/model.ckpt\""
      ]
    },
    {
      "cell_type": "markdown",
      "metadata": {},
      "source": [
        "## GFPGAN"
      ]
    },
    {
      "cell_type": "code",
      "execution_count": null,
      "metadata": {
        "_cell_guid": "d6b8f61c-df11-4e99-9187-9e1cccb717de",
        "_uuid": "b84810c5-b259-4193-a637-19f2554484e7",
        "colab": {
          "base_uri": "https://localhost:8080/"
        },
        "collapsed": true,
        "execution": {
          "iopub.execute_input": "2022-09-22T02:35:15.445252Z",
          "iopub.status.busy": "2022-09-22T02:35:15.444102Z",
          "iopub.status.idle": "2022-09-22T02:35:40.223859Z",
          "shell.execute_reply": "2022-09-22T02:35:40.222371Z",
          "shell.execute_reply.started": "2022-09-22T02:35:15.445197Z"
        },
        "id": "mstv-L61KsF6",
        "jupyter": {
          "outputs_hidden": true
        },
        "outputId": "1d35b58f-b333-4ab4-eedc-1b2d7ad83b56",
        "trusted": true
      },
      "outputs": [],
      "source": [
        "!wget -c https://github.com/TencentARC/GFPGAN/releases/download/v1.3.4/GFPGANv1.4.pth"
      ]
    },
    {
      "cell_type": "markdown",
      "metadata": {},
      "source": [
        "### Use GPU to load models"
      ]
    },
    {
      "cell_type": "code",
      "execution_count": null,
      "metadata": {
        "_cell_guid": "dfe39687-cc64-4326-a1e8-4df91b117776",
        "_uuid": "e36b6f05-bc5a-450d-9c8c-889619999ad9",
        "colab": {
          "base_uri": "https://localhost:8080/"
        },
        "execution": {
          "iopub.execute_input": "2022-09-22T02:35:42.140642Z",
          "iopub.status.busy": "2022-09-22T02:35:42.140251Z",
          "iopub.status.idle": "2022-09-22T02:35:42.157755Z",
          "shell.execute_reply": "2022-09-22T02:35:42.155942Z",
          "shell.execute_reply.started": "2022-09-22T02:35:42.140607Z"
        },
        "id": "I_p_WUxT74Tp",
        "jupyter": {
          "outputs_hidden": false
        },
        "outputId": "4d887a4f-f9d4-47fe-f8f4-d1ec641bb112",
        "trusted": true
      },
      "outputs": [],
      "source": [
        "def replace_line(file_name, line_num, text):\n",
        "    lines = open(file_name, 'r').readlines()\n",
        "    lines[line_num] = text\n",
        "    out = open(file_name, 'w')\n",
        "    out.writelines(lines)\n",
        "    out.close()\n",
        "\n",
        "def replace_line_in_file(file_name, line_to_search, text_to_replace):\n",
        "    with open(file_name, 'r') as file:\n",
        "        # read a list of lines into data\n",
        "        data = file.readlines()\n",
        "\n",
        "    for line in data:\n",
        "        # if the line contains the string we're looking for,\n",
        "        # write the line to the output file\n",
        "        if line_to_search in line:\n",
        "            replace_line(file_name, data.index(line), text_to_replace)\n",
        "\n",
        "replace_line_in_file('modules/sd_models.py', 'pl_sd = torch.load(checkpoint_file, map_location=\"cpu\")', '    pl_sd = torch.load(checkpoint_file, map_location=\"cuda:0\")\\n')"
      ]
    },
    {
      "cell_type": "markdown",
      "metadata": {
        "_cell_guid": "583cd295-0587-4e04-b6e7-89d79a56158f",
        "_uuid": "f54d131f-3729-477e-8397-a60c2d328e2b",
        "id": "jr9TOxYkT4YO",
        "trusted": true
      },
      "source": [
        "### Change maximum steps to 500\n",
        "Optional.  I personally find 150 to be very limiting.\n",
        "\n",
        "Also augments img2img steps to 500."
      ]
    },
    {
      "cell_type": "code",
      "execution_count": null,
      "metadata": {
        "_cell_guid": "e51be631-137a-484d-9f4f-60d54609aa0e",
        "_uuid": "f8d27d9c-9522-419d-8c86-d8c7a0e04107",
        "colab": {
          "base_uri": "https://localhost:8080/"
        },
        "execution": {
          "iopub.execute_input": "2022-09-22T02:35:42.161633Z",
          "iopub.status.busy": "2022-09-22T02:35:42.160479Z",
          "iopub.status.idle": "2022-09-22T02:35:43.842951Z",
          "shell.execute_reply": "2022-09-22T02:35:43.841450Z",
          "shell.execute_reply.started": "2022-09-22T02:35:42.161493Z"
        },
        "id": "7Si02Xqh1gbf",
        "jupyter": {
          "outputs_hidden": false
        },
        "outputId": "4d1a933a-2159-4e48-8f79-864e7449c98d",
        "trusted": true
      },
      "outputs": [],
      "source": [
        "!wget http://0x0.st/oWuq.json -O ui-config.json"
      ]
    },
    {
      "cell_type": "markdown",
      "metadata": {
        "id": "TIxT3HA0mA2O"
      },
      "source": [
        "### Downloading Models from HF with wget\n",
        "Replace 'username' and 'dataset' with whatever you wish to download."
      ]
    },
    {
      "cell_type": "code",
      "execution_count": null,
      "metadata": {
        "colab": {
          "base_uri": "https://localhost:8080/"
        },
        "id": "dE_4jK-WmA2O",
        "outputId": "63ce895d-047d-4824-eed7-643e9d4459dd",
        "trusted": true
      },
      "outputs": [],
      "source": [
        "#!wget -c --header=\"Authorization: Bearer Your_Token_Here\" \"https://huggingface.co/datasets/username/dataset/resolve/main/dataset.ckpt\" -O models/Stable-diffusion/dataset.ckpt"
      ]
    },
    {
      "cell_type": "markdown",
      "metadata": {
        "id": "H6Q2SQXemA2R"
      },
      "source": [
        "### Download concurrently\n",
        "To save time."
      ]
    },
    {
      "cell_type": "code",
      "execution_count": null,
      "metadata": {
        "colab": {
          "base_uri": "https://localhost:8080/"
        },
        "execution": {
          "iopub.execute_input": "2022-09-22T02:29:35.772309Z",
          "iopub.status.busy": "2022-09-22T02:29:35.771086Z",
          "iopub.status.idle": "2022-09-22T02:29:45.241249Z",
          "shell.execute_reply": "2022-09-22T02:29:45.239583Z",
          "shell.execute_reply.started": "2022-09-22T02:29:35.772272Z"
        },
        "id": "ORdS9U1OmA2D",
        "outputId": "b68c1cc2-8bd5-40eb-e3ea-3704161427c3",
        "trusted": true
      },
      "outputs": [],
      "source": [
        "#!apt -y install parallel"
      ]
    },
    {
      "cell_type": "markdown",
      "metadata": {},
      "source": [
        "Use `--quiet` to get rid of an avalanche of download output from wget once the `parallel` job finishes."
      ]
    },
    {
      "cell_type": "code",
      "execution_count": null,
      "metadata": {
        "colab": {
          "base_uri": "https://localhost:8080/"
        },
        "id": "E784f7IvmA2R",
        "outputId": "51352439-0724-4db0-ee5c-a5b7ab50a6c1",
        "trusted": true
      },
      "outputs": [],
      "source": [
        "#!echo '!wget -c --quiet --header=\"Authorization: Bearer Your_Token_Here\" \"https://huggingface.co/datasets/username/dataset/resolve/main/dataset.ckpt\" -O models/Stable-diffusion/mymodel.ckpt' > dllist\n",
        "#!echo '!wget -c --quiet --header=\"Authorization: Bearer Your_Token_Here\" \"https://huggingface.co/datasets/username/dataset/resolve2/main/dataset.ckpt\" -O models/Stable-diffusion/mymodel2.ckpt' >> dllist\n",
        "#!cat dllist"
      ]
    },
    {
      "cell_type": "code",
      "execution_count": null,
      "metadata": {
        "id": "Qn3I3x12mA2R",
        "trusted": true
      },
      "outputs": [],
      "source": [
        "#cat dllist | parallel "
      ]
    },
    {
      "cell_type": "markdown",
      "metadata": {},
      "source": [
        "## Install Xformers"
      ]
    },
    {
      "cell_type": "markdown",
      "metadata": {},
      "source": [
        "If installing xformers takes too long, use the provided wheel (`.whl` file) here.  Will work for a T4 GPU.\n",
        "\n",
        "Alternatively, save your `whl` files after the first run, to save time on the next instance.  Probably does not work cross-GPU.\n",
        "\n",
        "See https://old.reddit.com/r/StableDiffusion/comments/xphaiw/dreambooth_stable_diffusion_training_in_just_125/iq66lw0/ for details."
      ]
    },
    {
      "cell_type": "code",
      "execution_count": null,
      "metadata": {},
      "outputs": [],
      "source": [
        "%pip install -U --pre triton\n",
        "%pip install git+https://github.com/facebookresearch/xformers@1d31a3a#egg=xformers\n",
        "# %pip install https://github.com/metrolobo/xformers_wheels/releases/download/1d31a3ac/xformers-0.0.14.dev0-cp37-cp37m-linux_x86_64.whl\n",
        "# Use the above for a much faster install"
      ]
    },
    {
      "cell_type": "markdown",
      "metadata": {},
      "source": [
        "### Overwrite files to make use of xformers"
      ]
    },
    {
      "cell_type": "code",
      "execution_count": null,
      "metadata": {
        "colab": {
          "base_uri": "https://localhost:8080/"
        },
        "id": "A61yR7wQEnju",
        "outputId": "365cfd5e-ee6d-4ee1-c1dc-bbbd5efecafd"
      },
      "outputs": [],
      "source": [
        "!wget 'https://pastebin.com/raw/BEdeV3wG' -O repositories/stable-diffusion/ldm/modules/attention.py\n"
      ]
    },
    {
      "cell_type": "markdown",
      "metadata": {
        "_cell_guid": "f9238649-27f2-4bb0-a71c-1531caad5c77",
        "_uuid": "77ab3a79-c6b4-4a88-95ea-b8aee1f562a4",
        "id": "xt8lbdmC04ox",
        "trusted": true
      },
      "source": [
        "# Launch web ui.\n"
      ]
    },
    {
      "cell_type": "markdown",
      "metadata": {},
      "source": [
        "https://github.com/AUTOMATIC1111/stable-diffusion-webui/wiki/Optimizations\n",
        "\n",
        "https://github.com/AUTOMATIC1111/stable-diffusion-webui/wiki/Run-with-Custom-Parameters"
      ]
    },
    {
      "cell_type": "code",
      "execution_count": null,
      "metadata": {
        "_cell_guid": "cfbc9b2a-4c68-47c4-87ac-5ed928fbad77",
        "_kg_hide-output": true,
        "_uuid": "2b0fb8cb-2b84-4225-b253-0754a08d63a7",
        "colab": {
          "base_uri": "https://localhost:8080/"
        },
        "collapsed": true,
        "execution": {
          "iopub.execute_input": "2022-09-22T02:40:34.850705Z",
          "iopub.status.busy": "2022-09-22T02:40:34.850136Z"
        },
        "id": "R-xAdMA5wxXd",
        "jupyter": {
          "outputs_hidden": true
        },
        "outputId": "a0c72a9f-b269-4263-d4de-217002dfba47",
        "trusted": true
      },
      "outputs": [],
      "source": [
        "%cd /content/stable-diffusion-webui\n",
        "!python webui.py --share"
      ]
    },
    {
      "cell_type": "markdown",
      "metadata": {},
      "source": [
        "# Export your work\n",
        "\n",
        "You'll need to install `magic-wormhole` on your PC to receive files.  Run `pip install magic-wormhole`"
      ]
    },
    {
      "cell_type": "code",
      "execution_count": null,
      "metadata": {},
      "outputs": [],
      "source": [
        "#%pip install magic-wormhole\n",
        "#!tar cf out.tar outputs\n",
        "#!wormhole send out.tar"
      ]
    },
    {
      "cell_type": "markdown",
      "metadata": {},
      "source": [
        "# Notes\n",
        "\n",
        "## Sources Used:\n",
        "\n",
        "Modified from https://github.com/daswer123/stable-diffusion-colab/blob/main/StableDiffusionUI_Voldemort.ipynb\n",
        "\n",
        "xformers added from https://github.com/TheLastBen/fast-stable-diffusion/blob/main/fast_stable_diffusion_AUTOMATIC1111.ipynb and https://github.com/ShivamShrirao/diffusers/blob/main/examples/dreambooth/train_dreambooth.py\n",
        "\n",
        "## Saving outputs\n",
        "\n",
        "You can use an S3 bucket on platforms that allow you to access `fusermount`.  Installing `s3fs`:  `apt install s3fs`\n",
        "\n",
        "Alternatively `tar` your output folder and send it over with `croc` or `magic-wormhole`."
      ]
    }
  ],
  "metadata": {
    "accelerator": "GPU",
    "colab": {
      "provenance": []
    },
    "kernelspec": {
      "display_name": "Python 3",
      "language": "python",
      "name": "python3"
    },
    "language_info": {
      "codemirror_mode": {
        "name": "ipython",
        "version": 3
      },
      "file_extension": ".py",
      "mimetype": "text/x-python",
      "name": "python",
      "nbconvert_exporter": "python",
      "pygments_lexer": "ipython3",
      "version": "3.7.12"
    }
  },
  "nbformat": 4,
  "nbformat_minor": 0
}
